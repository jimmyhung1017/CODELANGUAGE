{
  "nbformat": 4,
  "nbformat_minor": 0,
  "metadata": {
    "colab": {
      "provenance": []
    },
    "kernelspec": {
      "name": "python3",
      "display_name": "Python 3"
    },
    "language_info": {
      "name": "python"
    }
  },
  "cells": [
    {
      "cell_type": "code",
      "execution_count": 23,
      "metadata": {
        "id": "wLHhaIYZfLp5",
        "colab": {
          "base_uri": "https://localhost:8080/"
        },
        "outputId": "4910bb88-9a17-491c-ddfa-b3a2b98dc8d9"
      },
      "outputs": [
        {
          "output_type": "stream",
          "name": "stdout",
          "text": [
            "聖誕樹高度:7\n",
            "       * \n",
            "      *** \n",
            "     ***** \n",
            "    ******* \n",
            "   ********* \n",
            "  *********** \n",
            " ************* \n",
            "      ***\n",
            "      ***\n",
            "      ***\n",
            "      ***\n",
            "      ***\n"
          ]
        }
      ],
      "source": [
        "n=int(input(\"聖誕樹高度:\"))\n",
        "n=n*2+1\n",
        "def treeheight(n):\n",
        "  for i in range(n):\n",
        "    if i%2:\n",
        "      p=int((n-i)/2)\n",
        "      for m in range(p):\n",
        "        print(\" \",end=\"\")\n",
        "      for b in range(i):\n",
        "        print(\"*\",end=\"\")\n",
        "      print(\" \")\n",
        "  a=\"***\"\n",
        "  for m in range(5):\n",
        "    for b in range(int((n-1)/2-1)):\n",
        "      print(\" \",end=(\"\"))\n",
        "    print(a)\n",
        "\n",
        "treeheight(n)\n"
      ]
    },
    {
      "cell_type": "code",
      "source": [
        "def bmi(H,W):\n",
        "  H=(H/100)**2\n",
        "  W/=H\n",
        "  return W\n",
        "def result(a):\n",
        "  if a<18.5:\n",
        "    return'過輕'\n",
        "  elif 18.5<=a<24:\n",
        "    return'適中'\n",
        "  elif 24<=a<27:\n",
        "    return'過重'\n",
        "  else:\n",
        "    return'肥胖'\n",
        "try:\n",
        "  H=input('請輸入您的身高(公分):')\n",
        "  W=input('請輸入您的體重:')\n",
        "  H=float(H)\n",
        "  W=float(W)\n",
        "  a=bmi(H,W)\n",
        "  ans=result(a)\n",
        "  print('BMI:',a)\n",
        "  print('體位:',ans)\n",
        "except:\n",
        "  print('輸入內容錯誤')\n",
        "print(\"\")\n",
        "\n"
      ],
      "metadata": {
        "colab": {
          "base_uri": "https://localhost:8080/"
        },
        "id": "aaXrrZZ2do42",
        "outputId": "c25819aa-e4b4-47fc-ec10-6157289baf01"
      },
      "execution_count": 37,
      "outputs": [
        {
          "output_type": "stream",
          "name": "stdout",
          "text": [
            "請輸入您的身高(公分):WSD\n",
            "請輸入您的體重:DDG\n",
            "輸入內容錯誤\n",
            "\n"
          ]
        }
      ]
    }
  ]
}