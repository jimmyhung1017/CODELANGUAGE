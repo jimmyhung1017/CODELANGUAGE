{
  "nbformat": 4,
  "nbformat_minor": 0,
  "metadata": {
    "colab": {
      "provenance": []
    },
    "kernelspec": {
      "name": "python3",
      "display_name": "Python 3"
    },
    "language_info": {
      "name": "python"
    }
  },
  "cells": [
    {
      "cell_type": "code",
      "execution_count": 13,
      "metadata": {
        "colab": {
          "base_uri": "https://localhost:8080/"
        },
        "id": "0xR1Ifl4V14N",
        "outputId": "0afbf3e6-2edc-4aae-cffe-70edcd732aab"
      },
      "outputs": [
        {
          "output_type": "stream",
          "name": "stdout",
          "text": [
            "        * \n",
            "       *** \n",
            "      ***** \n",
            "     ******* \n",
            "    ********* \n",
            "   *********** \n",
            "  ************* \n",
            " *************** \n",
            "       ***\n",
            "       ***\n",
            "       ***\n",
            "       ***\n",
            "       ***\n"
          ]
        }
      ],
      "source": [
        "for i in range(17):\n",
        "  if i%2==1:\n",
        "    p=int((17-i)/2)\n",
        "    for m in range(p):\n",
        "      print(\" \",end=\"\")\n",
        "    for b in range(i):\n",
        "      print(\"*\",end=\"\")\n",
        "    print(\" \")\n",
        "for a in range(5):\n",
        "  print(\" \"*7+\"*\"*3)"
      ]
    },
    {
      "cell_type": "code",
      "source": [
        "import random\n",
        "ans= random.sample(range(1,10),4)\n",
        "print(f'答案：{ans}')\n",
        "a=b=k=0\n",
        "n=0\n",
        "while a!=4:\n",
        "  n+=1\n",
        "  a=b=k=0\n",
        "  p=list(input('請輸入四個數字(不會重複):'))\n",
        "  while len(p)>4:\n",
        "    p=list(input('輸入數字過多，請輸入四個數字(不會重複):'))\n",
        "  for i in p:\n",
        "    if int(p[k]) == ans[k]:\n",
        "       a+=1\n",
        "    else:\n",
        "      if int(i) in ans:\n",
        "        b+=1\n",
        "    k+=1\n",
        "  output=','.join(p).replace(',','')\n",
        "  print(f'{output}: {a}A{b}B')\n",
        "print(f'答對了！總共猜了{n}次')"
      ],
      "metadata": {
        "colab": {
          "base_uri": "https://localhost:8080/"
        },
        "id": "aSjPDtzmh66_",
        "outputId": "b6264800-9aaf-4799-c139-830d7ee2e858"
      },
      "execution_count": 2,
      "outputs": [
        {
          "output_type": "stream",
          "name": "stdout",
          "text": [
            "答案：[8, 9, 6, 7]\n",
            "請輸入四個數字(不會重複):12345\n",
            "輸入數字過多，請輸入四個數字(不會重複):1234\n",
            "1234: 0A0B\n",
            "請輸入四個數字(不會重複):2468\n",
            "2468: 1A1B\n",
            "請輸入四個數字(不會重複):9876\n",
            "9876: 0A4B\n",
            "請輸入四個數字(不會重複):8964\n",
            "8964: 3A0B\n",
            "請輸入四個數字(不會重複):8967\n",
            "8967: 4A0B\n",
            "答對了！總共猜了5次\n"
          ]
        }
      ]
    }
  ]
}