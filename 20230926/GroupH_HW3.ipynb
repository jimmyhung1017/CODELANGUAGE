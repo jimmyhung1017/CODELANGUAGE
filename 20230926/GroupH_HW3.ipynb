{
  "nbformat": 4,
  "nbformat_minor": 0,
  "metadata": {
    "colab": {
      "provenance": []
    },
    "kernelspec": {
      "name": "python3",
      "display_name": "Python 3"
    },
    "language_info": {
      "name": "python"
    }
  },
  "cells": [
    {
      "cell_type": "code",
      "execution_count": 6,
      "metadata": {
        "colab": {
          "base_uri": "https://localhost:8080/"
        },
        "id": "0d4CS1cLGy3R",
        "outputId": "f3abd342-ee01-4f6a-e245-f8dc2a0b9182"
      },
      "outputs": [
        {
          "output_type": "stream",
          "name": "stdout",
          "text": [
            "I'm a student\n"
          ]
        }
      ],
      "source": [
        "a= \"I'm a student\"\n",
        "print(a)"
      ]
    },
    {
      "cell_type": "code",
      "source": [
        "m=input('A(x1):')\n",
        "n=input('A(x2):')\n",
        "p=input('B(y1):')\n",
        "q=input('B(y2):')\n",
        "z=(float(m)-float(p))**2+(float(n)-float(q))**2\n",
        "print(z**(1/2))"
      ],
      "metadata": {
        "colab": {
          "base_uri": "https://localhost:8080/"
        },
        "id": "Eul9dd8AHFma",
        "outputId": "ca7508a9-e7eb-441a-86d1-a5705a584645"
      },
      "execution_count": 4,
      "outputs": [
        {
          "output_type": "stream",
          "name": "stdout",
          "text": [
            "A(x1):0\n",
            "A(x2):6\n",
            "B(y1):8\n",
            "B(y2):0\n",
            "10.0\n"
          ]
        }
      ]
    },
    {
      "cell_type": "code",
      "source": [
        "h=input('請輸入您的身高：')\n",
        "w=input('請輸入您的體重：')\n",
        "h=float(h)\n",
        "w=float(w)\n",
        "h**=2\n",
        "w/=h\n",
        "print(int(w<18.5))"
      ],
      "metadata": {
        "colab": {
          "base_uri": "https://localhost:8080/"
        },
        "id": "J2U8CNQpJEY6",
        "outputId": "10a2e08c-224c-4fc1-e0a3-6ab2e2cb7189"
      },
      "execution_count": 7,
      "outputs": [
        {
          "output_type": "stream",
          "name": "stdout",
          "text": [
            "請輸入您的身高：1.73\n",
            "請輸入您的體重：58\n",
            "0\n"
          ]
        }
      ]
    }
  ]
}
