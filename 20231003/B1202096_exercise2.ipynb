{
  "nbformat": 4,
  "nbformat_minor": 0,
  "metadata": {
    "colab": {
      "provenance": []
    },
    "kernelspec": {
      "name": "python3",
      "display_name": "Python 3"
    },
    "language_info": {
      "name": "python"
    }
  },
  "cells": [
    {
      "cell_type": "code",
      "execution_count": null,
      "metadata": {
        "colab": {
          "base_uri": "https://localhost:8080/"
        },
        "id": "MJ0N9l11dBt8",
        "outputId": "ea631f39-9911-4b48-f818-055d5ded7ac9"
      },
      "outputs": [
        {
          "output_type": "stream",
          "name": "stdout",
          "text": [
            "A\n",
            "['K', 'H', 'U']\n"
          ]
        }
      ],
      "source": [
        "a='C,B,A'\n",
        "a=a.split(',')\n",
        "b=['F','G','H']\n",
        "a=a+b\n",
        "a[0]='K'\n",
        "c=a.pop(2)\n",
        "print(c)\n",
        "del a[1:4]\n",
        "a.append('U')\n",
        "print(a)"
      ]
    },
    {
      "cell_type": "code",
      "source": [
        "H=input('請輸入您的身高:')\n",
        "W=input('請輸入您的體重:')\n",
        "H=float(H)\n",
        "W=float(W)\n",
        "H**=2\n",
        "W/=H\n",
        "print('BMI:',W)\n",
        "if W<18.5:\n",
        "  print('過輕')\n",
        "elif 18.5<=W<24:\n",
        "  print('適中')\n",
        "elif 24<=W<27:\n",
        "  print('過重')\n",
        "else:\n",
        "  print('肥胖')\n"
      ],
      "metadata": {
        "colab": {
          "base_uri": "https://localhost:8080/"
        },
        "id": "9wJ3zTL7ltOM",
        "outputId": "b8f1e540-bc96-40a3-9f5e-9183bc02ecd0"
      },
      "execution_count": null,
      "outputs": [
        {
          "output_type": "stream",
          "name": "stdout",
          "text": [
            "請輸入您的身高:1.74\n",
            "請輸入您的體重:58\n",
            "BMI: 19.157088122605362\n",
            "適中\n"
          ]
        }
      ]
    }
  ]
}