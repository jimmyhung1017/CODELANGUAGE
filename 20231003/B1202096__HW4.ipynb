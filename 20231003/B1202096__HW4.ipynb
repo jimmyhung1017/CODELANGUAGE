{
  "nbformat": 4,
  "nbformat_minor": 0,
  "metadata": {
    "colab": {
      "provenance": []
    },
    "kernelspec": {
      "name": "python3",
      "display_name": "Python 3"
    },
    "language_info": {
      "name": "python"
    }
  },
  "cells": [
    {
      "cell_type": "code",
      "execution_count": 14,
      "metadata": {
        "colab": {
          "base_uri": "https://localhost:8080/"
        },
        "id": "s_Ct-4482ucV",
        "outputId": "93e89477-0670-4e60-86b7-632f2edfcb6b"
      },
      "outputs": [
        {
          "output_type": "stream",
          "name": "stdout",
          "text": [
            "請輸入您的成績：1 2 3 4 5\n",
            "3.0\n"
          ]
        }
      ],
      "source": [
        "a=input(\"請輸入您的成績：\")\n",
        "b=a.split(' ')\n",
        "b=[float(i)for i in b]\n",
        "b.pop(b.index(max(b)))\n",
        "b.pop(b.index(min(b)))\n",
        "c=sum(b)/len(b)\n",
        "print(c)\n"
      ]
    },
    {
      "cell_type": "code",
      "source": [
        "a=input(\"輸入兩個數字：\")\n",
        "a=a.split(' ')\n",
        "a=[float(i)for i in a]\n",
        "b=input(\"輸入一個運算符號\")\n",
        "if b=='+':\n",
        "  print(a[0]+a[1])\n",
        "elif b=='-':\n",
        "  print(a[0]-a[1])\n",
        "elif b=='*':\n",
        "  print(a[0]*a[1])\n",
        "else:\n",
        "  print(a[0]/a[1])"
      ],
      "metadata": {
        "colab": {
          "base_uri": "https://localhost:8080/"
        },
        "id": "PVES8pL59flR",
        "outputId": "0ee4c41c-713d-47ae-95a2-5dd5af186ed8"
      },
      "execution_count": 16,
      "outputs": [
        {
          "output_type": "stream",
          "name": "stdout",
          "text": [
            "輸入兩個數字：1 2\n",
            "輸入一個運算符號*\n",
            "2.0\n"
          ]
        }
      ]
    },
    {
      "cell_type": "code",
      "source": [
        "yr=input('輸入年份')\n",
        "yr=int(yr)\n",
        "if yr%4==0:\n",
        "  if yr<=1582:\n",
        "    print('閏年')\n",
        "  else:\n",
        "    if yr%100==0:\n",
        "      if yr%400==0:\n",
        "        print('閏年')\n",
        "      else:\n",
        "        print('平年')\n",
        "    else:\n",
        "      print('閏年')\n",
        "else:\n",
        "  print('平年')\n",
        "\n"
      ],
      "metadata": {
        "colab": {
          "base_uri": "https://localhost:8080/"
        },
        "id": "i6wHGdm8AzP1",
        "outputId": "fd5e41ab-0004-4563-fa58-0f13605a8562"
      },
      "execution_count": 19,
      "outputs": [
        {
          "output_type": "stream",
          "name": "stdout",
          "text": [
            "輸入年份2000\n",
            "閏年\n"
          ]
        }
      ]
    }
  ]
}