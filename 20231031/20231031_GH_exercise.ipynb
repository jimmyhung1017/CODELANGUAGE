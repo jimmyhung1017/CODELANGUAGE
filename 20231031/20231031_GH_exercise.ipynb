{
  "nbformat": 4,
  "nbformat_minor": 0,
  "metadata": {
    "colab": {
      "provenance": []
    },
    "kernelspec": {
      "name": "python3",
      "display_name": "Python 3"
    },
    "language_info": {
      "name": "python"
    }
  },
  "cells": [
    {
      "cell_type": "code",
      "execution_count": 1,
      "metadata": {
        "colab": {
          "base_uri": "https://localhost:8080/"
        },
        "id": "KROWqm3WwB6l",
        "outputId": "b751cfc1-1a9e-499b-be3c-9fa4b134f53e"
      },
      "outputs": [
        {
          "output_type": "stream",
          "name": "stdout",
          "text": [
            "輸入數字:27\n",
            "23\n"
          ]
        }
      ],
      "source": [
        "a=int(input(\"輸入數字:\"))\n",
        "if (a<2):\n",
        "  print(\"請輸入大於1的數字:\")\n",
        "else:\n",
        "  for i in range(a,1,-1):\n",
        "    n=0\n",
        "    for j in range(1,i+1):\n",
        "      if i%j==0:\n",
        "        n+=1\n",
        "    if n==2:\n",
        "      break\n",
        "  print(i)"
      ]
    },
    {
      "cell_type": "code",
      "source": [
        "a=input(\"請輸入數字:\")\n",
        "b=[]\n",
        "e=a.split(',')\n",
        "for i in range(len(e)):\n",
        "  e[i]=int(e[i])\n",
        "for i in range(len(e)):\n",
        "  m=0\n",
        "  for j in range(len(e)):\n",
        "    if e[j]<e[i]:\n",
        "      m+=1\n",
        "  b.append(m)\n",
        "print(b)"
      ],
      "metadata": {
        "colab": {
          "base_uri": "https://localhost:8080/"
        },
        "id": "X_RUwjFuxpLe",
        "outputId": "7b9c94fb-9efe-4f8b-e13b-99abd4374316"
      },
      "execution_count": 9,
      "outputs": [
        {
          "output_type": "stream",
          "name": "stdout",
          "text": [
            "請輸入數字:8,1,2,2,3\n",
            "[4, 0, 1, 1, 3]\n"
          ]
        }
      ]
    },
    {
      "cell_type": "code",
      "source": [
        "a=input(\"輸入:\")\n",
        "b=[]\n",
        "n=0\n",
        "for i in range(len(a)):\n",
        "  m=0\n",
        "  for j in range(len(a)):\n",
        "    if a[j]=='1':\n",
        "      n=abs(j-i)\n",
        "      m+=n\n",
        "  b.append(m)\n",
        "print(b)"
      ],
      "metadata": {
        "colab": {
          "base_uri": "https://localhost:8080/"
        },
        "id": "u4HSxlLq0fy_",
        "outputId": "bde63f09-741e-4e9b-d405-33505c266be1"
      },
      "execution_count": 11,
      "outputs": [
        {
          "output_type": "stream",
          "name": "stdout",
          "text": [
            "輸入:001011\n",
            "[11, 8, 5, 4, 3, 4]\n"
          ]
        }
      ]
    }
  ]
}